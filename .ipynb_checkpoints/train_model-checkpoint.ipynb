{
 "cells": [
  {
   "cell_type": "code",
   "execution_count": 1,
   "id": "9e659b9a",
   "metadata": {},
   "outputs": [
    {
     "name": "stderr",
     "output_type": "stream",
     "text": [
      "2024-05-21 09:59:08.163800: I tensorflow/core/util/port.cc:113] oneDNN custom operations are on. You may see slightly different numerical results due to floating-point round-off errors from different computation orders. To turn them off, set the environment variable `TF_ENABLE_ONEDNN_OPTS=0`.\n",
      "2024-05-21 09:59:08.198695: E external/local_xla/xla/stream_executor/cuda/cuda_dnn.cc:9261] Unable to register cuDNN factory: Attempting to register factory for plugin cuDNN when one has already been registered\n",
      "2024-05-21 09:59:08.198717: E external/local_xla/xla/stream_executor/cuda/cuda_fft.cc:607] Unable to register cuFFT factory: Attempting to register factory for plugin cuFFT when one has already been registered\n",
      "2024-05-21 09:59:08.199635: E external/local_xla/xla/stream_executor/cuda/cuda_blas.cc:1515] Unable to register cuBLAS factory: Attempting to register factory for plugin cuBLAS when one has already been registered\n",
      "2024-05-21 09:59:08.205099: I tensorflow/core/platform/cpu_feature_guard.cc:182] This TensorFlow binary is optimized to use available CPU instructions in performance-critical operations.\n",
      "To enable the following instructions: AVX2 AVX_VNNI FMA, in other operations, rebuild TensorFlow with the appropriate compiler flags.\n"
     ]
    },
    {
     "name": "stdout",
     "output_type": "stream",
     "text": [
      "INFO: Pandarallel will run on 24 workers.\n",
      "INFO: Pandarallel will use Memory file system to transfer data between the main process and workers.\n"
     ]
    }
   ],
   "source": [
    "from tensorflow import keras\n",
    "import tensorflow as tf\n",
    "import pandas as pd\n",
    "from scipy import ndimage, misc\n",
    "import tensorflow as tf\n",
    "import os\n",
    "from tensorflow.keras.layers import Conv2D, MaxPooling2D\n",
    "from tensorflow.keras import backend as K\n",
    "from tensorflow.keras.callbacks import ModelCheckpoint\n",
    "from tensorflow.keras.callbacks import CSVLogger\n",
    "from tensorflow.keras import regularizers\n",
    "from tensorflow.keras.optimizers import RMSprop\n",
    "from tensorflow.keras.preprocessing.image import ImageDataGenerator\n",
    "from tensorflow.keras.optimizers import Adam\n",
    "from tensorflow.keras.optimizers import SGD\n",
    "from os import listdir\n",
    "from os.path import isfile, join\n",
    "import gc\n",
    "from astropy.io import fits\n",
    "import matplotlib.pyplot as plt\n",
    "import random\n",
    "from numpy.random import default_rng\n",
    "import numpy as np\n",
    "from tensorflow.keras import datasets, layers, models\n",
    "rng = default_rng(42)\n",
    "import glob\n",
    "import seaborn as sns\n",
    "from pandarallel import pandarallel\n",
    "pandarallel.initialize(progress_bar=True)\n",
    "from mlxtend.plotting import plot_confusion_matrix"
   ]
  },
  {
   "cell_type": "code",
   "execution_count": 2,
   "id": "1f8923af",
   "metadata": {},
   "outputs": [
    {
     "name": "stderr",
     "output_type": "stream",
     "text": [
      "2024-05-21 09:59:10.024008: I external/local_xla/xla/stream_executor/cuda/cuda_executor.cc:901] successful NUMA node read from SysFS had negative value (-1), but there must be at least one NUMA node, so returning NUMA node zero. See more at https://github.com/torvalds/linux/blob/v6.0/Documentation/ABI/testing/sysfs-bus-pci#L344-L355\n",
      "2024-05-21 09:59:10.027714: I external/local_xla/xla/stream_executor/cuda/cuda_executor.cc:901] successful NUMA node read from SysFS had negative value (-1), but there must be at least one NUMA node, so returning NUMA node zero. See more at https://github.com/torvalds/linux/blob/v6.0/Documentation/ABI/testing/sysfs-bus-pci#L344-L355\n",
      "2024-05-21 09:59:10.027795: I external/local_xla/xla/stream_executor/cuda/cuda_executor.cc:901] successful NUMA node read from SysFS had negative value (-1), but there must be at least one NUMA node, so returning NUMA node zero. See more at https://github.com/torvalds/linux/blob/v6.0/Documentation/ABI/testing/sysfs-bus-pci#L344-L355\n"
     ]
    },
    {
     "data": {
      "text/plain": [
       "[PhysicalDevice(name='/physical_device:GPU:0', device_type='GPU')]"
      ]
     },
     "execution_count": 2,
     "metadata": {},
     "output_type": "execute_result"
    }
   ],
   "source": [
    "tf.config.list_physical_devices('GPU')\n"
   ]
  },
  {
   "cell_type": "code",
   "execution_count": 5,
   "id": "41d10533-9432-4796-adae-b980f5f3eaa7",
   "metadata": {},
   "outputs": [],
   "source": [
    "carpetas = ['fits_inclinated','zvar',\"z_cero\"]\n",
    "path = '/project/Data/SAD_CNN/'"
   ]
  },
  {
   "cell_type": "code",
   "execution_count": 6,
   "id": "7f225c55-28da-4ceb-aa5b-2f9dc6d7d74b",
   "metadata": {},
   "outputs": [],
   "source": [
    "i = 2"
   ]
  },
  {
   "cell_type": "code",
   "execution_count": 7,
   "id": "c86e77be-2681-46d6-9365-a5afc1d1c8d2",
   "metadata": {},
   "outputs": [],
   "source": [
    "import h5py\n",
    "with h5py.File(path + carpetas[i]  +\"/\"+carpetas[i]+\"_dataset.h5\", 'r') as hdf:\n",
    "    # Leer set de entrenamiento\n",
    "    x_train = hdf['x_train'][:]\n",
    "    train_labels = hdf['train_labels'][:]\n",
    "    \n",
    "    # Leer set de validación\n",
    "    x_val = hdf['x_val'][:]\n",
    "    val_labels = hdf['val_labels'][:]\n",
    "    \n",
    "    # Leer set de testeo\n",
    "    x_test = hdf['x_test'][:]\n",
    "    test_labels = hdf['test_labels'][:]"
   ]
  },
  {
   "cell_type": "code",
   "execution_count": 8,
   "id": "098bf539-a367-4484-8bde-0a7bd1cb53a5",
   "metadata": {},
   "outputs": [],
   "source": [
    "train_datagen = ImageDataGenerator()\n",
    "validation_datagen = ImageDataGenerator()\n",
    "\n",
    "train_gen = train_datagen.flow(\n",
    "    x_train,\n",
    "    train_labels,\n",
    "    batch_size=64,shuffle=True\n",
    ")\n",
    "\n",
    "val_gen = validation_datagen.flow(\n",
    "    x_val,\n",
    "    val_labels,\n",
    "    batch_size=32,shuffle=True\n",
    ")"
   ]
  },
  {
   "cell_type": "code",
   "execution_count": 9,
   "id": "c74b2845",
   "metadata": {},
   "outputs": [
    {
     "name": "stderr",
     "output_type": "stream",
     "text": [
      "2024-05-21 09:59:26.540979: I external/local_xla/xla/stream_executor/cuda/cuda_executor.cc:901] successful NUMA node read from SysFS had negative value (-1), but there must be at least one NUMA node, so returning NUMA node zero. See more at https://github.com/torvalds/linux/blob/v6.0/Documentation/ABI/testing/sysfs-bus-pci#L344-L355\n",
      "2024-05-21 09:59:26.541144: I external/local_xla/xla/stream_executor/cuda/cuda_executor.cc:901] successful NUMA node read from SysFS had negative value (-1), but there must be at least one NUMA node, so returning NUMA node zero. See more at https://github.com/torvalds/linux/blob/v6.0/Documentation/ABI/testing/sysfs-bus-pci#L344-L355\n",
      "2024-05-21 09:59:26.541254: I external/local_xla/xla/stream_executor/cuda/cuda_executor.cc:901] successful NUMA node read from SysFS had negative value (-1), but there must be at least one NUMA node, so returning NUMA node zero. See more at https://github.com/torvalds/linux/blob/v6.0/Documentation/ABI/testing/sysfs-bus-pci#L344-L355\n",
      "2024-05-21 09:59:26.628228: I external/local_xla/xla/stream_executor/cuda/cuda_executor.cc:901] successful NUMA node read from SysFS had negative value (-1), but there must be at least one NUMA node, so returning NUMA node zero. See more at https://github.com/torvalds/linux/blob/v6.0/Documentation/ABI/testing/sysfs-bus-pci#L344-L355\n",
      "2024-05-21 09:59:26.628360: I external/local_xla/xla/stream_executor/cuda/cuda_executor.cc:901] successful NUMA node read from SysFS had negative value (-1), but there must be at least one NUMA node, so returning NUMA node zero. See more at https://github.com/torvalds/linux/blob/v6.0/Documentation/ABI/testing/sysfs-bus-pci#L344-L355\n",
      "2024-05-21 09:59:26.628467: I external/local_xla/xla/stream_executor/cuda/cuda_executor.cc:901] successful NUMA node read from SysFS had negative value (-1), but there must be at least one NUMA node, so returning NUMA node zero. See more at https://github.com/torvalds/linux/blob/v6.0/Documentation/ABI/testing/sysfs-bus-pci#L344-L355\n",
      "2024-05-21 09:59:26.628558: I tensorflow/core/common_runtime/gpu/gpu_device.cc:1929] Created device /job:localhost/replica:0/task:0/device:GPU:0 with 5774 MB memory:  -> device: 0, name: NVIDIA GeForce RTX 4060 Laptop GPU, pci bus id: 0000:01:00.0, compute capability: 8.9\n"
     ]
    }
   ],
   "source": [
    "base_model = keras.applications.Xception(\n",
    "    weights='imagenet',  # Load weights pre-trained on ImageNet.\n",
    "    input_shape=(300, 300, 3),\n",
    "    include_top=False)\n",
    "base_model.trainable = False\n",
    "inputs = keras.Input(shape=(300, 300, 3))\n",
    "# We make sure that the base_model is running in inference mode here,\n",
    "# by passing `training=False`. This is important for fine-tuning, as you will\n",
    "# learn in a few paragraphs.\n",
    "x = base_model(inputs, training=False)\n",
    "# Convert features of shape `base_model.output_shape[1:]` to vectors\n",
    "x = keras.layers.GlobalAveragePooling2D()(x)\n",
    "# A Dense classifier with a single unit (binary classification)\n",
    "outputs = keras.layers.Dense(1,activation=\"sigmoid\")(x)\n",
    "model = keras.Model(inputs, outputs)"
   ]
  },
  {
   "cell_type": "code",
   "execution_count": 10,
   "id": "abe87160",
   "metadata": {},
   "outputs": [],
   "source": [
    "#model.compile(\n",
    "#    optimizer=RMSprop(lr=0.0001), \n",
    "#    loss='binary_crossentropy', \n",
    "#    metrics=['accuracy']\n",
    "#)"
   ]
  },
  {
   "cell_type": "code",
   "execution_count": 11,
   "id": "0866150b",
   "metadata": {},
   "outputs": [],
   "source": [
    "model.compile(optimizer=keras.optimizers.Adam(learning_rate=0.0001),\n",
    "              loss=tf.keras.losses.BinaryCrossentropy(),\n",
    "              metrics=[keras.metrics.BinaryAccuracy()])"
   ]
  },
  {
   "cell_type": "code",
   "execution_count": 12,
   "id": "664d7df3",
   "metadata": {},
   "outputs": [
    {
     "name": "stdout",
     "output_type": "stream",
     "text": [
      "Epoch 1/100\n"
     ]
    },
    {
     "name": "stderr",
     "output_type": "stream",
     "text": [
      "2024-05-21 09:59:31.835786: I external/local_xla/xla/stream_executor/cuda/cuda_dnn.cc:454] Loaded cuDNN version 8906\n"
     ]
    },
    {
     "name": "stdout",
     "output_type": "stream",
     "text": [
      " 1/30 [>.............................] - ETA: 3:03 - loss: 0.7705 - binary_accuracy: 0.3125"
     ]
    },
    {
     "name": "stderr",
     "output_type": "stream",
     "text": [
      "2024-05-21 09:59:36.547925: I external/local_xla/xla/service/service.cc:168] XLA service 0x7ed1724cfaf0 initialized for platform CUDA (this does not guarantee that XLA will be used). Devices:\n",
      "2024-05-21 09:59:36.547960: I external/local_xla/xla/service/service.cc:176]   StreamExecutor device (0): NVIDIA GeForce RTX 4060 Laptop GPU, Compute Capability 8.9\n",
      "2024-05-21 09:59:36.552305: I tensorflow/compiler/mlir/tensorflow/utils/dump_mlir_util.cc:269] disabling MLIR crash reproducer, set env var `MLIR_CRASH_REPRODUCER_DIRECTORY` to enable.\n",
      "WARNING: All log messages before absl::InitializeLog() is called are written to STDERR\n",
      "I0000 00:00:1716285576.611569   25648 device_compiler.h:186] Compiled cluster using XLA!  This line is logged at most once for the lifetime of the process.\n"
     ]
    },
    {
     "name": "stdout",
     "output_type": "stream",
     "text": [
      "30/30 [==============================] - 22s 544ms/step - loss: 0.7173 - binary_accuracy: 0.4553 - val_loss: 0.7091 - val_binary_accuracy: 0.4651\n",
      "Epoch 2/100\n",
      "30/30 [==============================] - 11s 354ms/step - loss: 0.6808 - binary_accuracy: 0.5707 - val_loss: 0.6569 - val_binary_accuracy: 0.6744\n",
      "Epoch 3/100\n",
      "30/30 [==============================] - 11s 358ms/step - loss: 0.6501 - binary_accuracy: 0.6686 - val_loss: 0.6118 - val_binary_accuracy: 0.8209\n",
      "Epoch 4/100\n",
      "30/30 [==============================] - 11s 357ms/step - loss: 0.6235 - binary_accuracy: 0.7255 - val_loss: 0.5765 - val_binary_accuracy: 0.8488\n",
      "Epoch 5/100\n",
      "30/30 [==============================] - 11s 356ms/step - loss: 0.6004 - binary_accuracy: 0.7628 - val_loss: 0.5460 - val_binary_accuracy: 0.8721\n",
      "Epoch 6/100\n",
      "30/30 [==============================] - 11s 360ms/step - loss: 0.5801 - binary_accuracy: 0.7782 - val_loss: 0.5213 - val_binary_accuracy: 0.8744\n",
      "Epoch 7/100\n",
      "30/30 [==============================] - 11s 356ms/step - loss: 0.5621 - binary_accuracy: 0.7926 - val_loss: 0.5019 - val_binary_accuracy: 0.8767\n",
      "Epoch 8/100\n",
      "30/30 [==============================] - 11s 358ms/step - loss: 0.5460 - binary_accuracy: 0.8064 - val_loss: 0.4835 - val_binary_accuracy: 0.8767\n",
      "Epoch 9/100\n",
      "30/30 [==============================] - 11s 355ms/step - loss: 0.5310 - binary_accuracy: 0.8122 - val_loss: 0.4677 - val_binary_accuracy: 0.8837\n",
      "Epoch 10/100\n",
      "30/30 [==============================] - 11s 358ms/step - loss: 0.5178 - binary_accuracy: 0.8186 - val_loss: 0.4528 - val_binary_accuracy: 0.8907\n",
      "Epoch 11/100\n",
      "30/30 [==============================] - 11s 356ms/step - loss: 0.5057 - binary_accuracy: 0.8213 - val_loss: 0.4402 - val_binary_accuracy: 0.8884\n",
      "Epoch 12/100\n",
      "30/30 [==============================] - 11s 356ms/step - loss: 0.4943 - binary_accuracy: 0.8245 - val_loss: 0.4292 - val_binary_accuracy: 0.8907\n",
      "Epoch 13/100\n",
      "30/30 [==============================] - 11s 355ms/step - loss: 0.4840 - binary_accuracy: 0.8293 - val_loss: 0.4206 - val_binary_accuracy: 0.8837\n",
      "Epoch 14/100\n",
      "30/30 [==============================] - 11s 358ms/step - loss: 0.4741 - binary_accuracy: 0.8309 - val_loss: 0.4111 - val_binary_accuracy: 0.8837\n",
      "Epoch 15/100\n",
      "30/30 [==============================] - 11s 354ms/step - loss: 0.4655 - binary_accuracy: 0.8372 - val_loss: 0.4015 - val_binary_accuracy: 0.8814\n",
      "Epoch 16/100\n",
      "30/30 [==============================] - 11s 354ms/step - loss: 0.4572 - binary_accuracy: 0.8399 - val_loss: 0.3971 - val_binary_accuracy: 0.8744\n",
      "Epoch 17/100\n",
      "30/30 [==============================] - 10s 348ms/step - loss: 0.4495 - binary_accuracy: 0.8362 - val_loss: 0.3895 - val_binary_accuracy: 0.8814\n",
      "Epoch 18/100\n",
      "30/30 [==============================] - 11s 353ms/step - loss: 0.4422 - binary_accuracy: 0.8415 - val_loss: 0.3832 - val_binary_accuracy: 0.8814\n",
      "Epoch 19/100\n",
      "30/30 [==============================] - 11s 353ms/step - loss: 0.4353 - binary_accuracy: 0.8516 - val_loss: 0.3794 - val_binary_accuracy: 0.8791\n",
      "Epoch 20/100\n",
      "30/30 [==============================] - 11s 351ms/step - loss: 0.4287 - binary_accuracy: 0.8596 - val_loss: 0.3716 - val_binary_accuracy: 0.8837\n",
      "Epoch 21/100\n",
      "30/30 [==============================] - 11s 350ms/step - loss: 0.4228 - binary_accuracy: 0.8596 - val_loss: 0.3685 - val_binary_accuracy: 0.8791\n",
      "Epoch 22/100\n",
      "30/30 [==============================] - 11s 352ms/step - loss: 0.4171 - binary_accuracy: 0.8628 - val_loss: 0.3631 - val_binary_accuracy: 0.8860\n",
      "Epoch 23/100\n",
      "30/30 [==============================] - 11s 353ms/step - loss: 0.4115 - binary_accuracy: 0.8644 - val_loss: 0.3589 - val_binary_accuracy: 0.8860\n",
      "Epoch 24/100\n",
      "30/30 [==============================] - 11s 350ms/step - loss: 0.4063 - binary_accuracy: 0.8660 - val_loss: 0.3535 - val_binary_accuracy: 0.8884\n",
      "Epoch 25/100\n",
      "30/30 [==============================] - 11s 350ms/step - loss: 0.4013 - binary_accuracy: 0.8686 - val_loss: 0.3501 - val_binary_accuracy: 0.8791\n",
      "Epoch 26/100\n",
      "30/30 [==============================] - 10s 349ms/step - loss: 0.3966 - binary_accuracy: 0.8676 - val_loss: 0.3462 - val_binary_accuracy: 0.8767\n",
      "Epoch 27/100\n",
      "30/30 [==============================] - 11s 353ms/step - loss: 0.3922 - binary_accuracy: 0.8676 - val_loss: 0.3418 - val_binary_accuracy: 0.8767\n",
      "Epoch 28/100\n",
      "30/30 [==============================] - 11s 354ms/step - loss: 0.3878 - binary_accuracy: 0.8718 - val_loss: 0.3397 - val_binary_accuracy: 0.8744\n",
      "Epoch 29/100\n",
      "30/30 [==============================] - 11s 354ms/step - loss: 0.3837 - binary_accuracy: 0.8734 - val_loss: 0.3372 - val_binary_accuracy: 0.8744\n",
      "Epoch 30/100\n",
      "30/30 [==============================] - 11s 361ms/step - loss: 0.3798 - binary_accuracy: 0.8745 - val_loss: 0.3334 - val_binary_accuracy: 0.8744\n",
      "Epoch 31/100\n",
      "30/30 [==============================] - 11s 353ms/step - loss: 0.3761 - binary_accuracy: 0.8755 - val_loss: 0.3312 - val_binary_accuracy: 0.8721\n",
      "Epoch 32/100\n",
      "30/30 [==============================] - 11s 353ms/step - loss: 0.3724 - binary_accuracy: 0.8771 - val_loss: 0.3287 - val_binary_accuracy: 0.8744\n",
      "Epoch 33/100\n",
      "30/30 [==============================] - 11s 352ms/step - loss: 0.3688 - binary_accuracy: 0.8750 - val_loss: 0.3244 - val_binary_accuracy: 0.8814\n",
      "Epoch 34/100\n",
      "30/30 [==============================] - 11s 353ms/step - loss: 0.3659 - binary_accuracy: 0.8739 - val_loss: 0.3227 - val_binary_accuracy: 0.8721\n",
      "Epoch 35/100\n",
      "30/30 [==============================] - 11s 351ms/step - loss: 0.3623 - binary_accuracy: 0.8761 - val_loss: 0.3181 - val_binary_accuracy: 0.8837\n",
      "Epoch 36/100\n",
      "30/30 [==============================] - 11s 356ms/step - loss: 0.3593 - binary_accuracy: 0.8761 - val_loss: 0.3171 - val_binary_accuracy: 0.8767\n",
      "Epoch 37/100\n",
      "30/30 [==============================] - 11s 354ms/step - loss: 0.3562 - binary_accuracy: 0.8782 - val_loss: 0.3134 - val_binary_accuracy: 0.8837\n",
      "Epoch 38/100\n",
      "30/30 [==============================] - 11s 355ms/step - loss: 0.3532 - binary_accuracy: 0.8761 - val_loss: 0.3121 - val_binary_accuracy: 0.8767\n",
      "Epoch 39/100\n",
      "30/30 [==============================] - 11s 357ms/step - loss: 0.3505 - binary_accuracy: 0.8782 - val_loss: 0.3096 - val_binary_accuracy: 0.8791\n",
      "Epoch 40/100\n",
      "30/30 [==============================] - 11s 353ms/step - loss: 0.3477 - binary_accuracy: 0.8787 - val_loss: 0.3084 - val_binary_accuracy: 0.8814\n",
      "Epoch 41/100\n",
      "30/30 [==============================] - 11s 356ms/step - loss: 0.3451 - binary_accuracy: 0.8793 - val_loss: 0.3059 - val_binary_accuracy: 0.8814\n",
      "Epoch 42/100\n",
      "30/30 [==============================] - 11s 355ms/step - loss: 0.3425 - binary_accuracy: 0.8793 - val_loss: 0.3033 - val_binary_accuracy: 0.8907\n",
      "Epoch 43/100\n",
      "30/30 [==============================] - 11s 354ms/step - loss: 0.3399 - binary_accuracy: 0.8787 - val_loss: 0.3021 - val_binary_accuracy: 0.8907\n",
      "Epoch 44/100\n",
      "30/30 [==============================] - 11s 354ms/step - loss: 0.3376 - binary_accuracy: 0.8803 - val_loss: 0.3007 - val_binary_accuracy: 0.8860\n",
      "Epoch 45/100\n",
      "30/30 [==============================] - 11s 353ms/step - loss: 0.3352 - binary_accuracy: 0.8803 - val_loss: 0.2990 - val_binary_accuracy: 0.8884\n",
      "Epoch 46/100\n",
      "30/30 [==============================] - 11s 357ms/step - loss: 0.3330 - binary_accuracy: 0.8803 - val_loss: 0.2955 - val_binary_accuracy: 0.8907\n",
      "Epoch 47/100\n",
      "30/30 [==============================] - 11s 354ms/step - loss: 0.3307 - binary_accuracy: 0.8803 - val_loss: 0.2945 - val_binary_accuracy: 0.8930\n",
      "Epoch 48/100\n",
      "30/30 [==============================] - 11s 354ms/step - loss: 0.3285 - binary_accuracy: 0.8809 - val_loss: 0.2943 - val_binary_accuracy: 0.8884\n",
      "Epoch 49/100\n",
      "30/30 [==============================] - 11s 351ms/step - loss: 0.3264 - binary_accuracy: 0.8824 - val_loss: 0.2928 - val_binary_accuracy: 0.8907\n",
      "Epoch 50/100\n",
      "30/30 [==============================] - 11s 354ms/step - loss: 0.3243 - binary_accuracy: 0.8846 - val_loss: 0.2896 - val_binary_accuracy: 0.8930\n",
      "Epoch 51/100\n",
      "30/30 [==============================] - 11s 351ms/step - loss: 0.3226 - binary_accuracy: 0.8814 - val_loss: 0.2868 - val_binary_accuracy: 0.8930\n",
      "Epoch 52/100\n",
      "30/30 [==============================] - 11s 355ms/step - loss: 0.3204 - binary_accuracy: 0.8851 - val_loss: 0.2864 - val_binary_accuracy: 0.8953\n",
      "Epoch 53/100\n",
      "30/30 [==============================] - 11s 362ms/step - loss: 0.3186 - binary_accuracy: 0.8830 - val_loss: 0.2852 - val_binary_accuracy: 0.8953\n",
      "Epoch 54/100\n",
      "30/30 [==============================] - 11s 353ms/step - loss: 0.3169 - binary_accuracy: 0.8851 - val_loss: 0.2848 - val_binary_accuracy: 0.8907\n",
      "Epoch 55/100\n",
      "30/30 [==============================] - 11s 355ms/step - loss: 0.3148 - binary_accuracy: 0.8846 - val_loss: 0.2822 - val_binary_accuracy: 0.8953\n",
      "Epoch 56/100\n",
      "30/30 [==============================] - 11s 362ms/step - loss: 0.3131 - binary_accuracy: 0.8851 - val_loss: 0.2814 - val_binary_accuracy: 0.8953\n",
      "Epoch 57/100\n",
      "30/30 [==============================] - 11s 353ms/step - loss: 0.3114 - binary_accuracy: 0.8856 - val_loss: 0.2798 - val_binary_accuracy: 0.8953\n",
      "Epoch 58/100\n",
      "30/30 [==============================] - 11s 352ms/step - loss: 0.3096 - binary_accuracy: 0.8856 - val_loss: 0.2784 - val_binary_accuracy: 0.8953\n",
      "Epoch 59/100\n",
      "30/30 [==============================] - 11s 355ms/step - loss: 0.3080 - binary_accuracy: 0.8856 - val_loss: 0.2768 - val_binary_accuracy: 0.8953\n",
      "Epoch 60/100\n",
      "30/30 [==============================] - 11s 355ms/step - loss: 0.3062 - binary_accuracy: 0.8888 - val_loss: 0.2754 - val_binary_accuracy: 0.8953\n",
      "Epoch 61/100\n",
      "30/30 [==============================] - 11s 355ms/step - loss: 0.3045 - binary_accuracy: 0.8878 - val_loss: 0.2748 - val_binary_accuracy: 0.8953\n",
      "Epoch 62/100\n",
      "30/30 [==============================] - 11s 353ms/step - loss: 0.3030 - binary_accuracy: 0.8878 - val_loss: 0.2739 - val_binary_accuracy: 0.8953\n",
      "Epoch 63/100\n",
      "30/30 [==============================] - 11s 355ms/step - loss: 0.3015 - binary_accuracy: 0.8904 - val_loss: 0.2727 - val_binary_accuracy: 0.8953\n",
      "Epoch 64/100\n",
      "30/30 [==============================] - 11s 356ms/step - loss: 0.2999 - binary_accuracy: 0.8899 - val_loss: 0.2721 - val_binary_accuracy: 0.8953\n",
      "Epoch 65/100\n",
      "30/30 [==============================] - 11s 355ms/step - loss: 0.2985 - binary_accuracy: 0.8888 - val_loss: 0.2705 - val_binary_accuracy: 0.8953\n",
      "Epoch 66/100\n",
      "30/30 [==============================] - 11s 355ms/step - loss: 0.2970 - binary_accuracy: 0.8904 - val_loss: 0.2691 - val_binary_accuracy: 0.8977\n",
      "Epoch 67/100\n",
      "30/30 [==============================] - 11s 354ms/step - loss: 0.2955 - binary_accuracy: 0.8910 - val_loss: 0.2695 - val_binary_accuracy: 0.8930\n",
      "Epoch 68/100\n",
      "30/30 [==============================] - 11s 363ms/step - loss: 0.2942 - binary_accuracy: 0.8910 - val_loss: 0.2678 - val_binary_accuracy: 0.8953\n",
      "Epoch 69/100\n",
      "30/30 [==============================] - 11s 355ms/step - loss: 0.2926 - binary_accuracy: 0.8915 - val_loss: 0.2653 - val_binary_accuracy: 0.8977\n",
      "Epoch 70/100\n",
      "30/30 [==============================] - 11s 354ms/step - loss: 0.2912 - binary_accuracy: 0.8915 - val_loss: 0.2644 - val_binary_accuracy: 0.8977\n",
      "Epoch 71/100\n",
      "30/30 [==============================] - 11s 353ms/step - loss: 0.2901 - binary_accuracy: 0.8915 - val_loss: 0.2646 - val_binary_accuracy: 0.8953\n",
      "Epoch 72/100\n",
      "30/30 [==============================] - 11s 357ms/step - loss: 0.2886 - binary_accuracy: 0.8910 - val_loss: 0.2619 - val_binary_accuracy: 0.8977\n",
      "Epoch 73/100\n",
      "30/30 [==============================] - 11s 352ms/step - loss: 0.2873 - binary_accuracy: 0.8910 - val_loss: 0.2622 - val_binary_accuracy: 0.8953\n",
      "Epoch 74/100\n",
      "30/30 [==============================] - 11s 351ms/step - loss: 0.2859 - binary_accuracy: 0.8920 - val_loss: 0.2603 - val_binary_accuracy: 0.9000\n",
      "Epoch 75/100\n",
      "30/30 [==============================] - 11s 352ms/step - loss: 0.2847 - binary_accuracy: 0.8926 - val_loss: 0.2601 - val_binary_accuracy: 0.8953\n",
      "Epoch 76/100\n",
      "30/30 [==============================] - 11s 353ms/step - loss: 0.2834 - binary_accuracy: 0.8931 - val_loss: 0.2592 - val_binary_accuracy: 0.8977\n",
      "Epoch 77/100\n",
      "30/30 [==============================] - 11s 352ms/step - loss: 0.2822 - binary_accuracy: 0.8920 - val_loss: 0.2579 - val_binary_accuracy: 0.9000\n",
      "Epoch 78/100\n",
      "30/30 [==============================] - 11s 354ms/step - loss: 0.2809 - binary_accuracy: 0.8931 - val_loss: 0.2576 - val_binary_accuracy: 0.8977\n",
      "Epoch 79/100\n",
      "30/30 [==============================] - 11s 353ms/step - loss: 0.2798 - binary_accuracy: 0.8936 - val_loss: 0.2563 - val_binary_accuracy: 0.9000\n",
      "Epoch 80/100\n",
      "30/30 [==============================] - 11s 353ms/step - loss: 0.2787 - binary_accuracy: 0.8941 - val_loss: 0.2546 - val_binary_accuracy: 0.9023\n",
      "Epoch 81/100\n",
      "30/30 [==============================] - 11s 353ms/step - loss: 0.2775 - binary_accuracy: 0.8941 - val_loss: 0.2543 - val_binary_accuracy: 0.9023\n",
      "Epoch 82/100\n",
      "30/30 [==============================] - 11s 352ms/step - loss: 0.2762 - binary_accuracy: 0.8947 - val_loss: 0.2535 - val_binary_accuracy: 0.9023\n",
      "Epoch 83/100\n",
      "30/30 [==============================] - 11s 351ms/step - loss: 0.2752 - binary_accuracy: 0.8941 - val_loss: 0.2529 - val_binary_accuracy: 0.9023\n",
      "Epoch 84/100\n",
      "30/30 [==============================] - 10s 320ms/step - loss: 0.2740 - binary_accuracy: 0.8941 - val_loss: 0.2515 - val_binary_accuracy: 0.9023\n",
      "Epoch 85/100\n",
      "30/30 [==============================] - 10s 319ms/step - loss: 0.2728 - binary_accuracy: 0.8952 - val_loss: 0.2517 - val_binary_accuracy: 0.9023\n",
      "Epoch 86/100\n",
      "30/30 [==============================] - 10s 320ms/step - loss: 0.2718 - binary_accuracy: 0.8952 - val_loss: 0.2502 - val_binary_accuracy: 0.9023\n",
      "Epoch 87/100\n",
      "30/30 [==============================] - 10s 319ms/step - loss: 0.2709 - binary_accuracy: 0.8957 - val_loss: 0.2501 - val_binary_accuracy: 0.9023\n",
      "Epoch 88/100\n",
      "30/30 [==============================] - 10s 324ms/step - loss: 0.2697 - binary_accuracy: 0.8963 - val_loss: 0.2499 - val_binary_accuracy: 0.9023\n",
      "Epoch 89/100\n",
      "30/30 [==============================] - 10s 327ms/step - loss: 0.2686 - binary_accuracy: 0.8957 - val_loss: 0.2483 - val_binary_accuracy: 0.9023\n",
      "Epoch 90/100\n",
      "30/30 [==============================] - 10s 327ms/step - loss: 0.2676 - binary_accuracy: 0.8952 - val_loss: 0.2487 - val_binary_accuracy: 0.9023\n",
      "Epoch 91/100\n",
      "30/30 [==============================] - 10s 326ms/step - loss: 0.2666 - binary_accuracy: 0.8957 - val_loss: 0.2471 - val_binary_accuracy: 0.9023\n",
      "Epoch 92/100\n",
      "30/30 [==============================] - 10s 334ms/step - loss: 0.2658 - binary_accuracy: 0.8963 - val_loss: 0.2466 - val_binary_accuracy: 0.9023\n",
      "Epoch 93/100\n",
      "30/30 [==============================] - 10s 350ms/step - loss: 0.2646 - binary_accuracy: 0.8963 - val_loss: 0.2470 - val_binary_accuracy: 0.9047\n",
      "Epoch 94/100\n",
      "30/30 [==============================] - 10s 330ms/step - loss: 0.2637 - binary_accuracy: 0.8963 - val_loss: 0.2456 - val_binary_accuracy: 0.9023\n",
      "Epoch 95/100\n",
      "30/30 [==============================] - 10s 335ms/step - loss: 0.2626 - binary_accuracy: 0.8968 - val_loss: 0.2455 - val_binary_accuracy: 0.9047\n",
      "Epoch 96/100\n",
      "30/30 [==============================] - 10s 329ms/step - loss: 0.2616 - binary_accuracy: 0.8963 - val_loss: 0.2441 - val_binary_accuracy: 0.9047\n",
      "Epoch 97/100\n",
      "30/30 [==============================] - 9s 316ms/step - loss: 0.2608 - binary_accuracy: 0.8963 - val_loss: 0.2430 - val_binary_accuracy: 0.9047\n",
      "Epoch 98/100\n",
      "30/30 [==============================] - 10s 319ms/step - loss: 0.2599 - binary_accuracy: 0.8968 - val_loss: 0.2426 - val_binary_accuracy: 0.9047\n",
      "Epoch 99/100\n",
      "30/30 [==============================] - 10s 322ms/step - loss: 0.2589 - binary_accuracy: 0.8963 - val_loss: 0.2423 - val_binary_accuracy: 0.9047\n",
      "Epoch 100/100\n",
      "30/30 [==============================] - 10s 322ms/step - loss: 0.2579 - binary_accuracy: 0.8968 - val_loss: 0.2417 - val_binary_accuracy: 0.9047\n"
     ]
    }
   ],
   "source": [
    "history = model.fit(train_gen, epochs=100, \n",
    "                    validation_data=val_gen)"
   ]
  },
  {
   "cell_type": "code",
   "execution_count": 13,
   "id": "f73f09af",
   "metadata": {},
   "outputs": [],
   "source": [
    "history_df = pd.DataFrame(history.history)"
   ]
  },
  {
   "cell_type": "code",
   "execution_count": 14,
   "id": "5870f30a",
   "metadata": {},
   "outputs": [],
   "source": [
    "history_df.to_csv(f\"labels/{carpetas[i]}/history.csv\",index=False)"
   ]
  },
  {
   "cell_type": "code",
   "execution_count": 15,
   "id": "0e78eed7",
   "metadata": {},
   "outputs": [],
   "source": [
    "model.save_weights(f'labels/{carpetas[i]}/checkpoints/my_checkpoint')"
   ]
  },
  {
   "cell_type": "code",
   "execution_count": null,
   "id": "432a37d9",
   "metadata": {},
   "outputs": [],
   "source": []
  }
 ],
 "metadata": {
  "kernelspec": {
   "display_name": "Python 3 (ipykernel)",
   "language": "python",
   "name": "python3"
  },
  "language_info": {
   "codemirror_mode": {
    "name": "ipython",
    "version": 3
   },
   "file_extension": ".py",
   "mimetype": "text/x-python",
   "name": "python",
   "nbconvert_exporter": "python",
   "pygments_lexer": "ipython3",
   "version": "3.11.0rc1"
  }
 },
 "nbformat": 4,
 "nbformat_minor": 5
}
