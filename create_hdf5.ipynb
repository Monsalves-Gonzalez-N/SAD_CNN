{
 "cells": [
  {
   "cell_type": "code",
   "execution_count": 51,
   "id": "9e659b9a",
   "metadata": {},
   "outputs": [
    {
     "name": "stdout",
     "output_type": "stream",
     "text": [
      "INFO: Pandarallel will run on 24 workers.\n",
      "INFO: Pandarallel will use Memory file system to transfer data between the main process and workers.\n"
     ]
    }
   ],
   "source": [
    "#from tensorflow import keras\n",
    "#import tensorflow as tf\n",
    "import pandas as pd\n",
    "#from scipy import ndimage, misc\n",
    "#import tensorflow as tf\n",
    "import os\n",
    "#from tensorflow.keras.layers import Conv2D, MaxPooling2D\n",
    "#from tensorflow.keras import backend as K\n",
    "#from tensorflow.keras.callbacks import ModelCheckpoint\n",
    "#from tensorflow.keras.callbacks import CSVLogger\n",
    "#from tensorflow.keras import regularizers\n",
    "#from tensorflow.keras.optimizers import RMSprop\n",
    "#from tensorflow.keras.preprocessing.image import ImageDataGenerator\n",
    "#from tensorflow.keras.optimizers import Adam\n",
    "#from tensorflow.keras.optimizers import SGD\n",
    "#from os import listdir\n",
    "from os.path import isfile, join\n",
    "import gc\n",
    "from astropy.io import fits\n",
    "import matplotlib.pyplot as plt\n",
    "import random\n",
    "from numpy.random import default_rng\n",
    "import numpy as np\n",
    "#from tensorflow.keras import datasets, layers, models\n",
    "rng = default_rng(42)\n",
    "import glob\n",
    "import seaborn as sns\n",
    "from pandarallel import pandarallel\n",
    "pandarallel.initialize(progress_bar=True)\n",
    "#from mlxtend.plotting import plot_confusion_matrix"
   ]
  },
  {
   "cell_type": "code",
   "execution_count": 52,
   "id": "1f8923af",
   "metadata": {},
   "outputs": [],
   "source": [
    "#tf.config.list_physical_devices('GPU')\n"
   ]
  },
  {
   "cell_type": "code",
   "execution_count": 53,
   "id": "dd75e3f2",
   "metadata": {},
   "outputs": [],
   "source": [
    "def abrir_fits(ruta):\n",
    "    hdu_list = fits.open(ruta,memmap=False)\n",
    "    image_data = hdu_list[0].data\n",
    "    hdu_list.close()\n",
    "    return image_data"
   ]
  },
  {
   "cell_type": "code",
   "execution_count": 133,
   "id": "bd4ebf06-750c-4e7c-93c1-7883c9ca510b",
   "metadata": {},
   "outputs": [],
   "source": [
    "carpetas = ['fits_inclinated','zvar',\"z_cero\"]\n",
    "path = '/home/nicolas/nico/Data/SAD_CNN/' + carpetas[2] "
   ]
  },
  {
   "cell_type": "code",
   "execution_count": 104,
   "id": "7671cf56",
   "metadata": {},
   "outputs": [],
   "source": [
    "train = pd.concat([pd.DataFrame(glob.glob(f\"{path}/all_fits/data_augmentation/0/*\"),columns=[\"direccion\"]),pd.DataFrame(glob.glob(f\"{path}/all_fits/data_augmentation/1/*\"),columns=[\"direccion\"])])"
   ]
  },
  {
   "cell_type": "code",
   "execution_count": 114,
   "id": "8673c383",
   "metadata": {},
   "outputs": [],
   "source": [
    "train[\"SB\"] = train[\"direccion\"].str.split(\"/\").str[10].str.split(\"_\").str[-2].str[2:4]"
   ]
  },
  {
   "cell_type": "code",
   "execution_count": 116,
   "id": "479cf871",
   "metadata": {},
   "outputs": [],
   "source": [
    "train[\"label\"] = train[\"direccion\"].str.split(\"/\").str[-2]"
   ]
  },
  {
   "cell_type": "code",
   "execution_count": 118,
   "id": "b2c92e74",
   "metadata": {},
   "outputs": [
    {
     "data": {
      "text/plain": [
       "<Axes: xlabel='SB', ylabel='Count'>"
      ]
     },
     "execution_count": 118,
     "metadata": {},
     "output_type": "execute_result"
    },
    {
     "data": {
      "image/png": "[encoded data removed]",
      "text/plain": [
       "<Figure size 640x480 with 1 Axes>"
      ]
     },
     "metadata": {},
     "output_type": "display_data"
    }
   ],
   "source": [
    "sns.histplot(data=train,x=\"SB\",hue=\"label\", multiple=\"dodge\")"
   ]
  },
  {
   "cell_type": "code",
   "execution_count": 119,
   "id": "aa354a0d",
   "metadata": {},
   "outputs": [],
   "source": [
    "val = pd.read_csv(f\"/home/nicolas/nico/git/SAD_CNN/labels/{carpetas[2]}/val.csv\")\n",
    "test = pd.read_csv(f\"/home/nicolas/nico/git/SAD_CNN/labels/{carpetas[2]}/test.csv\")"
   ]
  },
  {
   "cell_type": "code",
   "execution_count": 124,
   "id": "24cfb95b",
   "metadata": {},
   "outputs": [],
   "source": [
    "val[\"direccion\"] = path +  \"/all_fits/\" +  val[\"AU\"]+\".fits\"\n",
    "test[\"direccion\"] = path+  \"/all_fits/\" + test[\"AU\"]+\".fits\""
   ]
  },
  {
   "cell_type": "code",
   "execution_count": 125,
   "id": "59bb63f3",
   "metadata": {
    "scrolled": true
   },
   "outputs": [
    {
     "data": {
      "application/vnd.jupyter.widget-view+json": {
       "model_id": "aebfade3b0ad4d8c9fd5b04a4aca0780",
       "version_major": 2,
       "version_minor": 0
      },
      "text/plain": [
       "VBox(children=(HBox(children=(IntProgress(value=0, description='0.00%', max=79), Label(value='0 / 79'))), HBox…"
      ]
     },
     "metadata": {},
     "output_type": "display_data"
    },
    {
     "data": {
      "application/vnd.jupyter.widget-view+json": {
       "model_id": "a3be3e16b5d347cd93bde014571049a7",
       "version_major": 2,
       "version_minor": 0
      },
      "text/plain": [
       "VBox(children=(HBox(children=(IntProgress(value=0, description='0.00%', max=12), Label(value='0 / 12'))), HBox…"
      ]
     },
     "metadata": {},
     "output_type": "display_data"
    },
    {
     "data": {
      "application/vnd.jupyter.widget-view+json": {
       "model_id": "5d087a8f7686443cbf85c2f71676a72b",
       "version_major": 2,
       "version_minor": 0
      },
      "text/plain": [
       "VBox(children=(HBox(children=(IntProgress(value=0, description='0.00%', max=18), Label(value='0 / 18'))), HBox…"
      ]
     },
     "metadata": {},
     "output_type": "display_data"
    }
   ],
   "source": [
    "train[\"image\"] = train.parallel_apply(lambda row : abrir_fits(row[\"direccion\"]), axis=1)\n",
    "test[\"image\"] = test.parallel_apply(lambda row : abrir_fits(row[\"direccion\"]), axis=1)\n",
    "val[\"image\"] = val.parallel_apply(lambda row : abrir_fits(row[\"direccion\"]), axis=1)"
   ]
  },
  {
   "cell_type": "code",
   "execution_count": 126,
   "id": "c45fd975",
   "metadata": {},
   "outputs": [],
   "source": [
    "train[\"label\"] = train.label.astype(\"int\")\n",
    "val[\"label\"] = val.label.astype(\"int\")\n",
    "test[\"label\"] = test.label.astype(\"int\")"
   ]
  },
  {
   "cell_type": "code",
   "execution_count": 36,
   "id": "ce18bd08",
   "metadata": {},
   "outputs": [],
   "source": [
    "#tf.random.set_seed(42)"
   ]
  },
  {
   "cell_type": "code",
   "execution_count": 127,
   "id": "19e8b945",
   "metadata": {},
   "outputs": [],
   "source": [
    "x_train = np.empty((len(train),300, 300,3))\n",
    "x_val = np.empty((len(val),300,300,3))\n",
    "x_test = np.empty((len(test),300,300,3))\n",
    "\n",
    "for i,ima in enumerate(train[\"image\"]):\n",
    "    img2 = np.zeros( ( np.array(ima).shape[0], np.array(ima).shape[1], 3 ) )\n",
    "    img2[:,:,0] = ima # same value in each channel\n",
    "    img2[:,:,1] = ima\n",
    "    img2[:,:,2] = ima\n",
    "    x_train[i] = img2\n",
    "\n",
    "for i,ima in enumerate(val[\"image\"]):\n",
    "    img2 = np.zeros( ( np.array(ima).shape[0], np.array(ima).shape[1], 3 ) )\n",
    "    img2[:,:,0] = ima # same value in each channel\n",
    "    img2[:,:,1] = ima\n",
    "    img2[:,:,2] = ima\n",
    "    x_val[i] = img2\n",
    "    \n",
    "for i,ima in enumerate(test[\"image\"]):\n",
    "    img2 = np.zeros( ( np.array(ima).shape[0], np.array(ima).shape[1], 3 ) )\n",
    "    img2[:,:,0] = ima # same value in each channel\n",
    "    img2[:,:,1] = ima\n",
    "    img2[:,:,2] = ima\n",
    "    x_test[i] = img2\n",
    "\n"
   ]
  },
  {
   "cell_type": "code",
   "execution_count": 137,
   "id": "581e8353-35c9-4c99-b769-60d087d2efaf",
   "metadata": {},
   "outputs": [],
   "source": [
    "import h5py\n",
    "with h5py.File(path +\"/\"+carpetas[2]+\"_dataset.h5\", 'w') as hdf:\n",
    "    # Guardar set de entrenamiento\n",
    "    hdf.create_dataset('x_train', data=x_train)\n",
    "    hdf.create_dataset('train_labels', data=train.label)\n",
    "    \n",
    "    # Guardar set de validación\n",
    "    hdf.create_dataset('x_val', data=x_val)\n",
    "    hdf.create_dataset('val_labels', data=val.label)\n",
    "    \n",
    "    # Guardar set de testeo\n",
    "    hdf.create_dataset('x_test', data=x_test)\n",
    "    hdf.create_dataset('test_labels', data=test.label)"
   ]
  }
 ],
 "metadata": {
  "kernelspec": {
   "display_name": "Python 3 (ipykernel)",
   "language": "python",
   "name": "python3"
  },
  "language_info": {
   "codemirror_mode": {
    "name": "ipython",
    "version": 3
   },
   "file_extension": ".py",
   "mimetype": "text/x-python",
   "name": "python",
   "nbconvert_exporter": "python",
   "pygments_lexer": "ipython3",
   "version": "3.11.0rc1"
  }
 },
 "nbformat": 4,
 "nbformat_minor": 5
}
